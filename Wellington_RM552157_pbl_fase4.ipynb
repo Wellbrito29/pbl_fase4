{
 "cells": [
  {
   "cell_type": "markdown",
   "id": "74eb0b0e",
   "metadata": {},
   "source": [
    "\n",
    "# 📌 Predição do Rendimento da Safra 🌾\n",
    "\n",
    "## 📌 Descrição do Projeto  \n",
    "Este projeto faz parte da **Fase 4 - Modelagem de Dados com Regressão Supervisionada** e tem como objetivo prever o rendimento da safra a partir de variáveis climáticas e condições do solo.  \n",
    "\n",
    "Utilizamos técnicas de **Análise Exploratória de Dados (EDA)**, **Clusterização** e **Modelagem Preditiva** para entender os padrões nos dados e construir modelos de Machine Learning.\n",
    "\n",
    "## 🎯 Objetivos da Entrega  \n",
    "- Analisar a base de dados e encontrar tendências nos rendimentos das plantações 🌱  \n",
    "- Utilizar **clusterização** para identificar padrões e outliers nos dados 🔍  \n",
    "- Construir **modelos de regressão supervisionada** para prever o rendimento das culturas 📊  \n",
    "- Avaliar o desempenho dos modelos com métricas estatísticas 🏆  \n"
   ]
  },
  {
   "cell_type": "code",
   "execution_count": null,
   "id": "514cb14e",
   "metadata": {},
   "outputs": [],
   "source": [
    "\n",
    "import pandas as pd\n",
    "import numpy as np\n",
    "import matplotlib.pyplot as plt\n",
    "import seaborn as sns\n",
    "from sklearn.model_selection import train_test_split\n",
    "from sklearn.preprocessing import StandardScaler\n",
    "from sklearn.cluster import KMeans\n",
    "from sklearn.linear_model import LinearRegression\n",
    "from sklearn.ensemble import RandomForestRegressor\n",
    "from sklearn.svm import SVR\n",
    "from sklearn.neural_network import MLPRegressor\n",
    "from sklearn.metrics import mean_absolute_error, mean_squared_error, r2_score\n",
    "\n",
    "# Configurar estilo dos gráficos\n",
    "sns.set_style(\"whitegrid\")\n"
   ]
  },
  {
   "cell_type": "code",
   "execution_count": null,
   "id": "490852e1",
   "metadata": {},
   "outputs": [],
   "source": [
    "\n",
    "# Carregar os dados\n",
    "file_path = \"crop_yield.csv\"  # Certifique-se de ter o arquivo na mesma pasta\n",
    "df = pd.read_csv(file_path)\n",
    "\n",
    "# Visualizar as primeiras linhas\n",
    "df.head()\n"
   ]
  },
  {
   "cell_type": "markdown",
   "id": "19cd0c88",
   "metadata": {},
   "source": [
    "\n",
    "## 📊 Análise Exploratória dos Dados (EDA)  \n",
    "Aqui exploramos os dados para verificar se há valores ausentes, padrões ou tendências relevantes.\n"
   ]
  },
  {
   "cell_type": "code",
   "execution_count": null,
   "id": "a2d2a707",
   "metadata": {},
   "outputs": [],
   "source": [
    "\n",
    "# Informações gerais\n",
    "df.info()\n",
    "\n",
    "# Estatísticas descritivas\n",
    "df.describe()\n",
    "\n",
    "# Verificar valores nulos\n",
    "df.isnull().sum()\n"
   ]
  },
  {
   "cell_type": "markdown",
   "id": "3545d32b",
   "metadata": {},
   "source": [
    "\n",
    "### 🔎 Análises e Observações  \n",
    "- **Os dados não possuem valores ausentes**, o que facilita a modelagem.  \n",
    "- **As variáveis climáticas** (temperatura, umidade, precipitação) possuem variações significativas.  \n",
    "- **O rendimento da safra apresenta grande dispersão**, indicando que diferentes culturas podem reagir de formas variadas às condições ambientais.  \n"
   ]
  },
  {
   "cell_type": "markdown",
   "id": "738a65a4",
   "metadata": {},
   "source": [
    "\n",
    "### 📈 Visualização dos Dados  \n",
    "Vamos analisar a distribuição do rendimento da safra e sua relação com as condições climáticas.\n"
   ]
  },
  {
   "cell_type": "code",
   "execution_count": null,
   "id": "f7533af5",
   "metadata": {},
   "outputs": [],
   "source": [
    "\n",
    "# Histogramas e Boxplots\n",
    "plt.figure(figsize=(12, 8))\n",
    "\n",
    "plt.subplot(2, 2, 1)\n",
    "sns.histplot(df[\"Yield\"], bins=15, kde=True)\n",
    "plt.title(\"Distribuição do Rendimento da Safra\")\n",
    "\n",
    "plt.subplot(2, 2, 2)\n",
    "sns.boxplot(x=df[\"Yield\"])\n",
    "plt.title(\"Boxplot do Rendimento\")\n",
    "\n",
    "plt.subplot(2, 2, 3)\n",
    "sns.scatterplot(x=df[\"Temperature at 2 Meters (C)\"], y=df[\"Yield\"], hue=df[\"Crop\"])\n",
    "plt.title(\"Temperatura vs Rendimento\")\n",
    "\n",
    "plt.subplot(2, 2, 4)\n",
    "sns.scatterplot(x=df[\"Precipitation (mm day-1)\"], y=df[\"Yield\"], hue=df[\"Crop\"])\n",
    "plt.title(\"Precipitação vs Rendimento\")\n",
    "\n",
    "plt.tight_layout()\n",
    "plt.show()\n"
   ]
  },
  {
   "cell_type": "markdown",
   "id": "b9cdf8d4",
   "metadata": {},
   "source": [
    "\n",
    "### 📊 Observações sobre os Gráficos  \n",
    "- **Distribuição do rendimento**: Há uma variação considerável, e alguns valores extremos podem ser outliers.  \n",
    "- **Temperatura vs Rendimento**: Algumas culturas parecem ser mais afetadas por variações de temperatura.  \n",
    "- **Precipitação vs Rendimento**: Não há uma correlação clara, sugerindo que a precipitação isolada pode não ser um fator determinante.  \n"
   ]
  },
  {
   "cell_type": "markdown",
   "id": "d9b9d29a",
   "metadata": {},
   "source": [
    "\n",
    "## 🔍 Clusterização para Encontrar Padrões  \n",
    "Usamos **K-Means** para segmentar os dados e identificar padrões entre as culturas.\n"
   ]
  },
  {
   "cell_type": "code",
   "execution_count": null,
   "id": "11b6a300",
   "metadata": {},
   "outputs": [],
   "source": [
    "\n",
    "# Normalizar os dados\n",
    "features = df.drop(columns=[\"Crop\", \"Yield\"])\n",
    "scaler = StandardScaler()\n",
    "features_scaled = scaler.fit_transform(features)\n",
    "\n",
    "# Definir número de clusters (k=3 baseado no método do cotovelo)\n",
    "kmeans = KMeans(n_clusters=3, random_state=42, n_init=10)\n",
    "df[\"Cluster\"] = kmeans.fit_predict(features_scaled)\n",
    "\n",
    "# Visualizar clusters\n",
    "plt.figure(figsize=(8, 6))\n",
    "sns.scatterplot(x=df[\"Temperature at 2 Meters (C)\"], y=df[\"Yield\"], hue=df[\"Cluster\"], palette=\"viridis\")\n",
    "plt.title(\"Clusterização: Temperatura vs Rendimento\")\n",
    "plt.xlabel(\"Temperatura (°C)\")\n",
    "plt.ylabel(\"Rendimento (toneladas/ha)\")\n",
    "plt.legend(title=\"Cluster\")\n",
    "plt.show()\n"
   ]
  },
  {
   "cell_type": "markdown",
   "id": "c8b2a69f",
   "metadata": {},
   "source": [
    "\n",
    "### 🔎 Análises da Clusterização  \n",
    "- **Os clusters indicam diferentes padrões de rendimento** entre as culturas.  \n",
    "- **Temperatura parece ser um fator relevante**, com rendimentos variando entre os grupos.  \n",
    "- **Essas informações podem ser úteis para ajustar os modelos preditivos**.  \n"
   ]
  },
  {
   "cell_type": "markdown",
   "id": "b5e9b5a4",
   "metadata": {},
   "source": [
    "\n",
    "## 🤖 Modelagem Preditiva  \n",
    "Agora treinamos diferentes modelos de regressão para prever o rendimento da safra com base nas condições ambientais.\n"
   ]
  },
  {
   "cell_type": "code",
   "execution_count": null,
   "id": "8c498a2b",
   "metadata": {},
   "outputs": [],
   "source": [
    "\n",
    "# Preparação dos dados para regressão\n",
    "X = df.drop(columns=[\"Crop\", \"Yield\", \"Cluster\"])\n",
    "y = df[\"Yield\"]\n",
    "\n",
    "X_scaled = scaler.fit_transform(X)\n",
    "X_train, X_test, y_train, y_test = train_test_split(X_scaled, y, test_size=0.2, random_state=42)\n",
    "\n",
    "# Modelos\n",
    "models = {\n",
    "    \"Regressão Linear\": LinearRegression(),\n",
    "    \"Random Forest\": RandomForestRegressor(n_estimators=100, random_state=42),\n",
    "    \"Suporte a Vetores (SVR)\": SVR(),\n",
    "    \"Rede Neural (MLP)\": MLPRegressor(hidden_layer_sizes=(50, 50), max_iter=1000, random_state=42)\n",
    "}\n",
    "\n",
    "# Treinar e avaliar os modelos\n",
    "results = {}\n",
    "for name, model in models.items():\n",
    "    model.fit(X_train, y_train)\n",
    "    y_pred = model.predict(X_test)\n",
    "\n",
    "    mae = mean_absolute_error(y_test, y_pred)\n",
    "    mse = mean_squared_error(y_test, y_pred)\n",
    "    rmse = mse ** 0.5\n",
    "    r2 = r2_score(y_test, y_pred)\n",
    "\n",
    "    results[name] = {\"MAE\": mae, \"RMSE\": rmse, \"R²\": r2}\n",
    "\n",
    "# Exibir resultados\n",
    "pd.DataFrame(results).T\n"
   ]
  }
 ],
 "metadata": {},
 "nbformat": 4,
 "nbformat_minor": 5
}
